{
 "cells": [
  {
   "cell_type": "code",
   "execution_count": 2,
   "metadata": {},
   "outputs": [
    {
     "name": "stdout",
     "output_type": "stream",
     "text": [
      "Collecting python-jobspy\n",
      "  Downloading python_jobspy-1.1.52-py3-none-any.whl (30 kB)\n",
      "Collecting beautifulsoup4<5.0.0,>=4.12.2\n",
      "  Downloading beautifulsoup4-4.12.3-py3-none-any.whl (147 kB)\n",
      "\u001b[2K     \u001b[90m━━━━━━━━━━━━━━━━━━━━━━━━━━━━━━━━━━━━━━━\u001b[0m \u001b[32m147.9/147.9 kB\u001b[0m \u001b[31m1.8 MB/s\u001b[0m eta \u001b[36m0:00:00\u001b[0ma \u001b[36m0:00:01\u001b[0m\n",
      "\u001b[?25hRequirement already satisfied: regex<2025.0.0,>=2024.4.28 in /Users/fernandomtrade/Documents/TEC-DE-MTY/.devbox/virtenv/python/.venv/lib/python3.10/site-packages (from python-jobspy) (2024.5.10)\n",
      "Collecting pandas<3.0.0,>=2.1.0\n",
      "  Using cached pandas-2.2.2-cp310-cp310-macosx_11_0_arm64.whl (11.3 MB)\n",
      "Requirement already satisfied: requests<3.0.0,>=2.31.0 in /Users/fernandomtrade/Documents/TEC-DE-MTY/.devbox/virtenv/python/.venv/lib/python3.10/site-packages (from python-jobspy) (2.31.0)\n",
      "Collecting tls-client<2.0.0,>=1.0.1\n",
      "  Downloading tls_client-1.0.1-py3-none-any.whl (41.3 MB)\n",
      "\u001b[2K     \u001b[90m━━━━━━━━━━━━━━━━━━━━━━━━━━━━━━━━━━━━━━━━\u001b[0m \u001b[32m41.3/41.3 MB\u001b[0m \u001b[31m6.5 MB/s\u001b[0m eta \u001b[36m0:00:00\u001b[0m00:01\u001b[0m00:01\u001b[0m\n",
      "\u001b[?25hCollecting markdownify<0.12.0,>=0.11.6\n",
      "  Downloading markdownify-0.11.6-py3-none-any.whl (16 kB)\n",
      "Collecting NUMPY==1.24.2\n",
      "  Downloading numpy-1.24.2-cp310-cp310-macosx_11_0_arm64.whl (13.9 MB)\n",
      "\u001b[2K     \u001b[90m━━━━━━━━━━━━━━━━━━━━━━━━━━━━━━━━━━━━━━━━\u001b[0m \u001b[32m13.9/13.9 MB\u001b[0m \u001b[31m8.1 MB/s\u001b[0m eta \u001b[36m0:00:00\u001b[0m00:01\u001b[0m00:01\u001b[0m\n",
      "\u001b[?25hCollecting pydantic<3.0.0,>=2.3.0\n",
      "  Downloading pydantic-2.7.1-py3-none-any.whl (409 kB)\n",
      "\u001b[2K     \u001b[90m━━━━━━━━━━━━━━━━━━━━━━━━━━━━━━━━━━━━━━━\u001b[0m \u001b[32m409.3/409.3 kB\u001b[0m \u001b[31m6.9 MB/s\u001b[0m eta \u001b[36m0:00:00\u001b[0ma \u001b[36m0:00:01\u001b[0m\n",
      "\u001b[?25hCollecting soupsieve>1.2\n",
      "  Downloading soupsieve-2.5-py3-none-any.whl (36 kB)\n",
      "Requirement already satisfied: six<2,>=1.15 in /Users/fernandomtrade/Documents/TEC-DE-MTY/.devbox/virtenv/python/.venv/lib/python3.10/site-packages (from markdownify<0.12.0,>=0.11.6->python-jobspy) (1.16.0)\n",
      "Requirement already satisfied: pytz>=2020.1 in /Users/fernandomtrade/Documents/TEC-DE-MTY/.devbox/virtenv/python/.venv/lib/python3.10/site-packages (from pandas<3.0.0,>=2.1.0->python-jobspy) (2024.1)\n",
      "Requirement already satisfied: python-dateutil>=2.8.2 in /Users/fernandomtrade/Documents/TEC-DE-MTY/.devbox/virtenv/python/.venv/lib/python3.10/site-packages (from pandas<3.0.0,>=2.1.0->python-jobspy) (2.9.0.post0)\n",
      "Requirement already satisfied: tzdata>=2022.7 in /Users/fernandomtrade/Documents/TEC-DE-MTY/.devbox/virtenv/python/.venv/lib/python3.10/site-packages (from pandas<3.0.0,>=2.1.0->python-jobspy) (2024.1)\n",
      "Requirement already satisfied: typing-extensions>=4.6.1 in /Users/fernandomtrade/Documents/TEC-DE-MTY/.devbox/virtenv/python/.venv/lib/python3.10/site-packages (from pydantic<3.0.0,>=2.3.0->python-jobspy) (4.11.0)\n",
      "Collecting annotated-types>=0.4.0\n",
      "  Downloading annotated_types-0.6.0-py3-none-any.whl (12 kB)\n",
      "Collecting pydantic-core==2.18.2\n",
      "  Downloading pydantic_core-2.18.2-cp310-cp310-macosx_11_0_arm64.whl (1.8 MB)\n",
      "\u001b[2K     \u001b[90m━━━━━━━━━━━━━━━━━━━━━━━━━━━━━━━━━━━━━━━━\u001b[0m \u001b[32m1.8/1.8 MB\u001b[0m \u001b[31m7.1 MB/s\u001b[0m eta \u001b[36m0:00:00\u001b[0m00:01\u001b[0m00:01\u001b[0m\n",
      "\u001b[?25hRequirement already satisfied: urllib3<3,>=1.21.1 in /Users/fernandomtrade/Documents/TEC-DE-MTY/.devbox/virtenv/python/.venv/lib/python3.10/site-packages (from requests<3.0.0,>=2.31.0->python-jobspy) (2.2.1)\n",
      "Requirement already satisfied: certifi>=2017.4.17 in /Users/fernandomtrade/Documents/TEC-DE-MTY/.devbox/virtenv/python/.venv/lib/python3.10/site-packages (from requests<3.0.0,>=2.31.0->python-jobspy) (2024.2.2)\n",
      "Requirement already satisfied: idna<4,>=2.5 in /Users/fernandomtrade/Documents/TEC-DE-MTY/.devbox/virtenv/python/.venv/lib/python3.10/site-packages (from requests<3.0.0,>=2.31.0->python-jobspy) (3.7)\n",
      "Requirement already satisfied: charset-normalizer<4,>=2 in /Users/fernandomtrade/Documents/TEC-DE-MTY/.devbox/virtenv/python/.venv/lib/python3.10/site-packages (from requests<3.0.0,>=2.31.0->python-jobspy) (3.3.2)\n",
      "Installing collected packages: tls-client, soupsieve, pydantic-core, NUMPY, annotated-types, pydantic, pandas, beautifulsoup4, markdownify, python-jobspy\n",
      "  Attempting uninstall: NUMPY\n",
      "    Found existing installation: numpy 1.26.4\n",
      "    Uninstalling numpy-1.26.4:\n",
      "      Successfully uninstalled numpy-1.26.4\n",
      "  Attempting uninstall: pandas\n",
      "    Found existing installation: pandas 2.0.2\n",
      "    Uninstalling pandas-2.0.2:\n",
      "      Successfully uninstalled pandas-2.0.2\n",
      "Successfully installed NUMPY-1.24.2 annotated-types-0.6.0 beautifulsoup4-4.12.3 markdownify-0.11.6 pandas-2.2.2 pydantic-2.7.1 pydantic-core-2.18.2 python-jobspy-1.1.52 soupsieve-2.5 tls-client-1.0.1\n",
      "\n",
      "\u001b[1m[\u001b[0m\u001b[34;49mnotice\u001b[0m\u001b[1;39;49m]\u001b[0m\u001b[39;49m A new release of pip is available: \u001b[0m\u001b[31;49m23.0.1\u001b[0m\u001b[39;49m -> \u001b[0m\u001b[32;49m24.0\u001b[0m\n",
      "\u001b[1m[\u001b[0m\u001b[34;49mnotice\u001b[0m\u001b[1;39;49m]\u001b[0m\u001b[39;49m To update, run: \u001b[0m\u001b[32;49mpip install --upgrade pip\u001b[0m\n"
     ]
    }
   ],
   "source": [
    "!pip install -U python-jobspy"
   ]
  },
  {
   "cell_type": "code",
   "execution_count": 4,
   "metadata": {},
   "outputs": [
    {
     "name": "stderr",
     "output_type": "stream",
     "text": [
      "2024-05-18 21:44:24,172 - JobSpy - INFO - Indeed search page: 1\n"
     ]
    },
    {
     "name": "stderr",
     "output_type": "stream",
     "text": [
      "2024-05-18 21:44:24,176 - JobSpy - INFO - LinkedIn search page: 1\n",
      "2024-05-18 21:44:24,761 - JobSpy - INFO - ZipRecruiter search page: 1\n",
      "2024-05-18 21:44:25,130 - JobSpy - INFO - ZipRecruiter finished scraping\n",
      "2024-05-18 21:44:25,214 - JobSpy - INFO - Glassdoor search page: 1\n",
      "2024-05-18 21:44:25,650 - JobSpy - INFO - Indeed finished scraping\n",
      "2024-05-18 21:44:37,325 - JobSpy - INFO - Glassdoor finished scraping\n",
      "2024-05-18 21:44:49,638 - JobSpy - INFO - LinkedIn search page: 2\n",
      "2024-05-18 21:45:00,138 - JobSpy - INFO - Linkedin finished scraping\n"
     ]
    },
    {
     "name": "stdout",
     "output_type": "stream",
     "text": [
      "Found 60 jobs\n",
      "         site                                            job_url  \\\n",
      "25  glassdoor  https://www.glassdoor.com.mx/job-listing/j?jl=...   \n",
      "38  glassdoor  https://www.glassdoor.com.mx/job-listing/j?jl=...   \n",
      "22  glassdoor  https://www.glassdoor.com.mx/job-listing/j?jl=...   \n",
      "27  glassdoor  https://www.glassdoor.com.mx/job-listing/j?jl=...   \n",
      "28  glassdoor  https://www.glassdoor.com.mx/job-listing/j?jl=...   \n",
      "\n",
      "   job_url_direct                                        title  \\\n",
      "25            NaN                 desarrollador de videojuegos   \n",
      "38            NaN                           Auxiliar Comercial   \n",
      "22            NaN  Desarrollador de Tecnologías de Información   \n",
      "27            NaN                        Desarrollador Java JR   \n",
      "28            NaN                        Desarrollador Android   \n",
      "\n",
      "                                             company              location  \\\n",
      "25                                JDiaz Business LLC                   NaN   \n",
      "38                                  DOT DCD SA DE CV                México   \n",
      "22  Tramitaciones de Comercio Intercontinental, S.C.          Nuevo Laredo   \n",
      "27                Enterprise Solutions FIDE SA de CV  Atizapán de Zaragoza   \n",
      "28                                            Gendra                México   \n",
      "\n",
      "   job_type date_posted interval  min_amount  ...  company_url_direct  \\\n",
      "25      NaN  2024-05-18   yearly    350000.0  ...                 NaN   \n",
      "38      NaN  2024-05-18  monthly     12000.0  ...                 NaN   \n",
      "22      NaN  2024-05-17  monthly     14000.0  ...                 NaN   \n",
      "27      NaN  2024-05-17  monthly      8000.0  ...                 NaN   \n",
      "28      NaN  2024-05-17  monthly     40000.0  ...                 NaN   \n",
      "\n",
      "   company_addresses company_industry company_num_employees company_revenue  \\\n",
      "25               NaN              NaN                   NaN             NaN   \n",
      "38               NaN              NaN                   NaN             NaN   \n",
      "22               NaN              NaN                   NaN             NaN   \n",
      "27               NaN              NaN                   NaN             NaN   \n",
      "28               NaN              NaN                   NaN             NaN   \n",
      "\n",
      "   company_description logo_photo_url banner_photo_url ceo_name ceo_photo_url  \n",
      "25                 NaN            NaN              NaN      NaN           NaN  \n",
      "38                 NaN            NaN              NaN      NaN           NaN  \n",
      "22                 NaN            NaN              NaN      NaN           NaN  \n",
      "27                 NaN            NaN              NaN      NaN           NaN  \n",
      "28                 NaN            NaN              NaN      NaN           NaN  \n",
      "\n",
      "[5 rows x 26 columns]\n"
     ]
    }
   ],
   "source": [
    "import csv\n",
    "from jobspy import scrape_jobs\n",
    "\n",
    "jobs = scrape_jobs(\n",
    "    site_name = [\"indeed\", \"linkedin\", \"zip_recruiter\", \"glassdoor\"], # default is all four\n",
    "    search_term=\"software engineer\",\n",
    "    location=\"mexico\",\n",
    "    # distance (int)\n",
    "    # job_type (str): fulltime, parttime\n",
    "    results_wanted=20,\n",
    "    hours_old=72, # (only Linkedin/Indeed is hour specific, others round up to days old)\n",
    "    country_indeed='mexico',  # only needed for indeed / glassdoor\n",
    "    linkedin_fetch_description=True # get full description and direct job url for linkedin (slower)\n",
    ")\n",
    "print(f\"Found {len(jobs)} jobs\")\n",
    "print(jobs.head())\n",
    "jobs.to_csv(\"jobs.csv\", quoting=csv.QUOTE_NONNUMERIC, escapechar=\"\\\\\", index=False) # to_xlsx\n"
   ]
  },
  {
   "cell_type": "code",
   "execution_count": null,
   "metadata": {},
   "outputs": [],
   "source": []
  }
 ],
 "metadata": {
  "kernelspec": {
   "display_name": "Python 3",
   "language": "python",
   "name": "python3"
  },
  "language_info": {
   "codemirror_mode": {
    "name": "ipython",
    "version": 3
   },
   "file_extension": ".py",
   "mimetype": "text/x-python",
   "name": "python",
   "nbconvert_exporter": "python",
   "pygments_lexer": "ipython3",
   "version": "3.10.14"
  }
 },
 "nbformat": 4,
 "nbformat_minor": 2
}
